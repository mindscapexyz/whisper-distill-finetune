{
 "cells": [
  {
   "cell_type": "code",
   "execution_count": 2,
   "metadata": {},
   "outputs": [],
   "source": [
    "import json\n",
    "import os\n",
    "from tqdm import tqdm\n",
    "from glob import glob\n",
    "from streaming import MDSWriter, LocalDataset\n",
    "\n",
    "columns = {\n",
    "    'audio_filename': 'str',\n",
    "    'text': 'str',\n",
    "}\n",
    "hashes = 'sha1', 'xxh64'"
   ]
  },
  {
   "cell_type": "markdown",
   "metadata": {},
   "source": [
    "Define files (add all from provided datasets)"
   ]
  },
  {
   "cell_type": "code",
   "execution_count": 3,
   "metadata": {},
   "outputs": [],
   "source": [
    "files = [\n",
    "    '/Users/halimshukor/Documents/github-projects/whisper-distill-finetune/nusantara-data/prepared-nusantara-original.jsonl',\n",
    "    '/Users/halimshukor/Documents/github-projects/whisper-distill-finetune/malaysian-youtube-data/prepared-pseudolabel.jsonl'\n",
    "]"
   ]
  },
  {
   "cell_type": "code",
   "execution_count": 4,
   "metadata": {},
   "outputs": [
    {
     "name": "stdout",
     "output_type": "stream",
     "text": [
      "    6274 /Users/halimshukor/Documents/github-projects/whisper-distill-finetune/nusantara-data/prepared-nusantara-original.jsonl\n"
     ]
    }
   ],
   "source": [
    "!wc -l {files[0]}"
   ]
  },
  {
   "cell_type": "code",
   "execution_count": 5,
   "metadata": {},
   "outputs": [
    {
     "name": "stdout",
     "output_type": "stream",
     "text": [
      " 3085595 /Users/halimshukor/Documents/github-projects/whisper-distill-finetune/malaysian-youtube-data/prepared-pseudolabel.jsonl\n"
     ]
    }
   ],
   "source": [
    "!wc -l {files[1]}"
   ]
  },
  {
   "cell_type": "code",
   "execution_count": null,
   "metadata": {},
   "outputs": [],
   "source": [
    "with MDSWriter(out='mosaic-whisper', columns=columns, compression=None, hashes=hashes) as out:\n",
    "    for f in files:\n",
    "        folder = os.path.split(f)[0]\n",
    "        with open(f) as fopen:\n",
    "            for l in tqdm(fopen):\n",
    "                l = json.loads(l)\n",
    "                for r in l:\n",
    "                    audio_filename = os.path.join(folder, r['audio_filename'])\n",
    "                    audio_filename = os.path.abspath(audio_filename)\n",
    "                    t = r['text'].strip()\n",
    "                    before = t\n",
    "                    t = ' '.join([w for w in t.split() if len(w) > 1]).strip()\n",
    "                    if len(t) < 3:\n",
    "                        continue\n",
    "                    d = {\n",
    "                        'text': t,\n",
    "                        'audio_filename': audio_filename,\n",
    "                    }\n",
    "                    out.write(d)\n"
   ]
  },
  {
   "cell_type": "markdown",
   "metadata": {},
   "source": [
    "Streaming from dataset"
   ]
  },
  {
   "cell_type": "code",
   "execution_count": null,
   "metadata": {},
   "outputs": [],
   "source": [
    "from torch.utils.data import DataLoader\n",
    "from streaming import StreamingDataset\n",
    "\n",
    "# Remote path in hugginface\n",
    "remote = 'hf://your_username/your_dataset_name'\n",
    "local = '/tmp/path-to-dataset'\n",
    "\n",
    "dataset = StreamingDataset(local=local, remote=remote, shuffle=True)\n",
    "\n",
    "row = dataset[0]\n",
    "text = row['text']\n",
    "audio = row['audio_filename']\n",
    "\n",
    "dataloader = DataLoader(dataset)"
   ]
  }
 ],
 "metadata": {
  "kernelspec": {
   "display_name": "venv",
   "language": "python",
   "name": "python3"
  },
  "language_info": {
   "codemirror_mode": {
    "name": "ipython",
    "version": 3
   },
   "file_extension": ".py",
   "mimetype": "text/x-python",
   "name": "python",
   "nbconvert_exporter": "python",
   "pygments_lexer": "ipython3",
   "version": "3.11.5"
  }
 },
 "nbformat": 4,
 "nbformat_minor": 2
}
