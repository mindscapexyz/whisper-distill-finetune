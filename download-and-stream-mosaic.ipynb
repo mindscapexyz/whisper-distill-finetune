{
 "cells": [
  {
   "cell_type": "markdown",
   "metadata": {},
   "source": [
    "Download dataset"
   ]
  },
  {
   "cell_type": "code",
   "execution_count": 7,
   "metadata": {},
   "outputs": [
    {
     "name": "stdout",
     "output_type": "stream",
     "text": [
      "git: 'lfs' is not a git command. See 'git --help'.\n",
      "\n",
      "The most similar command is\n",
      "\tlog\n"
     ]
    }
   ],
   "source": [
    "!git lfs install"
   ]
  },
  {
   "cell_type": "code",
   "execution_count": 8,
   "metadata": {},
   "outputs": [
    {
     "name": "stdout",
     "output_type": "stream",
     "text": [
      "Cloning into 'main'...\n",
      "The authenticity of host 'hf.co (34.204.155.59)' can't be established.\n",
      "ED25519 key fingerprint is SHA256:dVjzGIdV7d6cwKIeZiCoRMa2gMvSKfGZAvHf4gMiMao.\n",
      "This key is not known by any other names.\n",
      "Are you sure you want to continue connecting (yes/no/[fingerprint])? ^C\n"
     ]
    }
   ],
   "source": [
    "!git clone git@hf.co:datasets/mesolitica/pseudolabel-malaya-speech-stt-train-whisper-large-v3-timestamp/tree/main\n",
    "!git clone git@hf.co:datasets/mesolitica/pseudolabel-imda-large-v3-timestamp\n",
    "!git clone git@hf.co:datasets/mesolitica/pseudolabel-malaysian-youtube-whisper-large-v3-timestamp\n",
    "!git clone git@hf.co:datasets/mesolitica/pseudolabel-indonesian-large-v3-timestamp\n",
    "!git clone git@hf.co:datasets/mesolitica/pseudolabel-nusantara-large-v3-timestamp"
   ]
  },
  {
   "cell_type": "code",
   "execution_count": 2,
   "metadata": {},
   "outputs": [],
   "source": [
    "import json\n",
    "import os\n",
    "from tqdm import tqdm\n",
    "from glob import glob\n",
    "from streaming import MDSWriter\n",
    "\n",
    "columns = {\n",
    "    'audio_filename': 'str',\n",
    "    'text': 'str',\n",
    "}\n",
    "hashes = 'sha1', 'xxh64'"
   ]
  },
  {
   "cell_type": "markdown",
   "metadata": {},
   "source": [
    "Define files (add all from provided datasets)"
   ]
  },
  {
   "cell_type": "code",
   "execution_count": 3,
   "metadata": {},
   "outputs": [],
   "source": [
    "files = [\n",
    "    'prepared-pseudolabel-malaya.jsonl',\n",
    "    'prepared-pseudolabel-malaya-original.jsonl',\n",
    "    'prepared-imda-ms.jsonl',\n",
    "    'prepared-imda.jsonl',\n",
    "    'prepared-pseudolabel-original.jsonl'\n",
    "    'prepared-pseudolabel-original.jsonl',\n",
    "    'prepared-pseudolabel.jsonl',\n",
    "    'prepared-indonesian-en.jsonl',\n",
    "    'prepared-indonesian-ms.jsonl',\n",
    "    'prepared-indonesian-original.jsonl',\n",
    "    'prepared-nusantara-original.jsonl',\n",
    "    'prepared-nusantara.jsonl'\n",
    "]"
   ]
  },
  {
   "cell_type": "code",
   "execution_count": 4,
   "metadata": {},
   "outputs": [
    {
     "name": "stdout",
     "output_type": "stream",
     "text": [
      "    6274 /Users/halimshukor/Documents/github-projects/whisper-distill-finetune/nusantara-data/prepared-nusantara-original.jsonl\n"
     ]
    }
   ],
   "source": [
    "!wc -l {files[0]}"
   ]
  },
  {
   "cell_type": "code",
   "execution_count": 5,
   "metadata": {},
   "outputs": [
    {
     "name": "stdout",
     "output_type": "stream",
     "text": [
      " 3085595 /Users/halimshukor/Documents/github-projects/whisper-distill-finetune/malaysian-youtube-data/prepared-pseudolabel.jsonl\n"
     ]
    }
   ],
   "source": [
    "!wc -l {files[1]}"
   ]
  },
  {
   "cell_type": "code",
   "execution_count": null,
   "metadata": {},
   "outputs": [],
   "source": [
    "with MDSWriter(out='mosaic-whisper', columns=columns, compression=None, hashes=hashes) as out:\n",
    "    for f in files:\n",
    "        folder = os.path.split(f)[0]\n",
    "        with open(f) as fopen:\n",
    "            for l in tqdm(fopen):\n",
    "                l = json.loads(l)\n",
    "                for r in l:\n",
    "                    audio_filename = os.path.join(folder, r['audio_filename'])\n",
    "                    audio_filename = os.path.abspath(audio_filename)\n",
    "                    t = r['text'].strip()\n",
    "                    before = t\n",
    "                    t = ' '.join([w for w in t.split() if len(w) > 1]).strip()\n",
    "                    if len(t) < 3:\n",
    "                        continue\n",
    "                    d = {\n",
    "                        'text': t,\n",
    "                        'audio_filename': audio_filename,\n",
    "                    }\n",
    "                    out.write(d)\n"
   ]
  },
  {
   "cell_type": "markdown",
   "metadata": {},
   "source": [
    "Streaming from dataset"
   ]
  },
  {
   "cell_type": "code",
   "execution_count": null,
   "metadata": {},
   "outputs": [],
   "source": [
    "from torch.utils.data import DataLoader\n",
    "from streaming import StreamingDataset, Stream\n",
    "\n",
    "\n",
    "local = '/tmp/path-to-dataset'\n",
    "\n",
    "hugginface_remote_list = [\"hf://mesolitica/pseudolabel-malaya-speech-stt-train-whisper-large-v3-timestamp\",\n",
    "                          \"hf://mesolitica/pseudolabel-imda-large-v3-timestamp\",\n",
    "                          \"hf://mesolitica/pseudolabel-malaysian-youtube-whisper-large-v3-timestamp\",\n",
    "                          \"hf://mesolitica/pseudolabel-indonesian-large-v3-timestamp\",\n",
    "                          \"hf://mesolitica/pseudolabel-nusantara-large-v3-timestamp\"]\n",
    "\n",
    "streams = [Stream(remote=remote, local=local) for remote in hugginface_remote_list]\n",
    "\n",
    "dataset = StreamingDataset(\n",
    "  streams=streams,\n",
    "  samples_per_epoch=1e8,\n",
    ")\n",
    "\n",
    "row = dataset[0]\n",
    "text = row['text']\n",
    "audio = row['audio_filename']\n",
    "\n",
    "\n",
    "dataloader = DataLoader(dataset)"
   ]
  }
 ],
 "metadata": {
  "kernelspec": {
   "display_name": "venv",
   "language": "python",
   "name": "python3"
  },
  "language_info": {
   "codemirror_mode": {
    "name": "ipython",
    "version": 3
   },
   "file_extension": ".py",
   "mimetype": "text/x-python",
   "name": "python",
   "nbconvert_exporter": "python",
   "pygments_lexer": "ipython3",
   "version": "3.11.5"
  }
 },
 "nbformat": 4,
 "nbformat_minor": 2
}
